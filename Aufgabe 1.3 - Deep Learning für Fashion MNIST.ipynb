{
 "cells": [
  {
   "cell_type": "markdown",
   "metadata": {
    "collapsed": false,
    "deletable": false,
    "editable": false
   },
   "source": [
    "# Deep Learning with the Fashion-MNIST dataset\n",
    "\n",
    "Inspired by: https://www.tensorflow.org/tutorials/keras/classification"
   ]
  },
  {
   "cell_type": "markdown",
   "metadata": {
    "collapsed": false,
    "deletable": false,
    "editable": false
   },
   "source": [
    "## Facts about the dataset"
   ]
  },
  {
   "cell_type": "markdown",
   "metadata": {
    "collapsed": false,
    "deletable": false,
    "editable": false
   },
   "source": [
    "### User Input"
   ]
  },
  {
   "cell_type": "code",
   "metadata": {
    "collapsed": false,
    "deletable": false,
    "editable": false
   },
   "source": [
    "# Ratio of training images to validation images. This has to be set, because the dataset don't has separate validation images\n",
    "# e.g. 0.8 -> 80% training images, 20% validation images\n",
    "# Don't use the validation_split parameter in fit() method to control the validation image set by ourselves and do computation on it (e.g. show images)\n",
    "TRAIN_TO_VALID_RATIO = 0.8"
   ],
   "outputs": [],
   "execution_count": null
  },
  {
   "cell_type": "markdown",
   "metadata": {
    "collapsed": false,
    "deletable": false,
    "editable": false
   },
   "source": [
    "### Definitions and load dataset"
   ]
  },
  {
   "cell_type": "code",
   "metadata": {
    "collapsed": false,
    "deletable": false,
    "editable": false,
    "jupyter": {
     "outputs_hidden": false
    }
   },
   "source": [
    "import numpy as np\n",
    "from tensorflow import keras\n",
    "\n",
    "fashion_mnist = keras.datasets.fashion_mnist\n",
    "(train_images, train_labels), (test_images, test_labels) = fashion_mnist.load_data()\n",
    "\n",
    "split_num = int(np.floor(len(train_images) * TRAIN_TO_VALID_RATIO))\n",
    "\n",
    "validation_images = train_images[split_num:]\n",
    "validation_labels = train_labels[split_num:]\n",
    "\n",
    "train_images = train_images[:split_num]\n",
    "train_labels = train_labels[:split_num]\n",
    "\n",
    "print(f\"#Training-Images:\\t{len(train_images)}\\n\"\n",
    "      f\"#Validation-Images:\\t{len(validation_images)}\\n\"\n",
    "      f\"#Testing-Images:\\t{len(test_images)}\")\n",
    "\n",
    "assert train_images.shape[1] == test_images.shape[1] == validation_images.shape[1]\n",
    "assert train_images.shape[2] == test_images.shape[2] == validation_images.shape[2]\n",
    "input_shape = (train_images.shape[1], train_images.shape[2])\n",
    "\n",
    "class_names = [\"T-shirt/top\", \"Trouser\", \"Pullover\", \"Dress\", \"Coat\",\n",
    "               \"Sandal\", \"Shirt\", \"Sneaker\", \"Bag\", \"Ankle boot\"]"
   ],
   "outputs": [],
   "execution_count": null
  },
  {
   "cell_type": "markdown",
   "metadata": {
    "collapsed": false,
    "deletable": false,
    "editable": false
   },
   "source": [
    "## Visualization of the dataset"
   ]
  },
  {
   "cell_type": "markdown",
   "metadata": {
    "collapsed": false,
    "deletable": false,
    "editable": false
   },
   "source": [
    "### Helper functions"
   ]
  },
  {
   "cell_type": "code",
   "metadata": {
    "collapsed": false,
    "deletable": false,
    "editable": false
   },
   "source": [
    "from matplotlib import pyplot as plt, colormaps\n",
    "from typing import Union, List\n",
    "\n",
    "NUM_TYPE = Union[List[int], int, range]\n",
    "\n",
    "\n",
    "def show_images(dataset: np.ndarray, labels: np.ndarray, classes: List[str],\n",
    "                num: NUM_TYPE) -> None:\n",
    "    \"\"\"\n",
    "    Internal function for showing multiple images in one plot, including their colorbar.\n",
    "    This should only be called inside the API functions, never directly.\n",
    "    \n",
    "    :param dataset: Dataset in which the image is.\n",
    "    :param labels: Labels in which the label of the image is.\n",
    "    :param classes: List containing all class names as string.\n",
    "    :param num: Integer, range or list of integers specifying the index of the images in the dataset and labels list.\n",
    "    \"\"\"\n",
    "    assert len(dataset) == len(labels)\n",
    "\n",
    "    if isinstance(num, int):\n",
    "        num = [num]\n",
    "\n",
    "    for i in num:\n",
    "        assert (0 <= i < len(dataset)) or (-len(dataset) <= i < 0)\n",
    "\n",
    "    len_sqrt = int(np.ceil(np.sqrt(len(num))))\n",
    "\n",
    "    plt.figure(figsize=(len_sqrt * 3, len_sqrt * 3))\n",
    "    for index, image_num in enumerate(num):\n",
    "        plt.subplot(len_sqrt, len_sqrt, index + 1)\n",
    "\n",
    "        if np.max(dataset[image_num]) <= 1:\n",
    "            plt.imshow(dataset[image_num], cmap=colormaps[\"gray\"])\n",
    "        else:\n",
    "            plt.imshow(dataset[image_num])\n",
    "        plt.xticks([])\n",
    "        plt.yticks([])\n",
    "        plt.grid(False)\n",
    "        plt.colorbar()\n",
    "        plt.xlabel(classes[labels[image_num]])\n",
    "\n",
    "    plt.show()\n",
    "\n",
    "\n",
    "def show_train_images(num: NUM_TYPE) -> None:\n",
    "    \"\"\"\n",
    "    API function to show images of the train dataset with their colorbar.\n",
    "    \n",
    "    :param num: Integer, range or list of integers specifying the index of the images in the dataset and labels list.\n",
    "    \"\"\"\n",
    "    show_images(train_images, train_labels, class_names, num)\n",
    "\n",
    "\n",
    "def show_validation_images(num: NUM_TYPE) -> None:\n",
    "    \"\"\"\n",
    "    API function to show images of the validation dataset with their colorbar.\n",
    "    \n",
    "    :param num: Integer, range or list of integers specifying the index of the images in the dataset and labels list.\n",
    "    \"\"\"\n",
    "    show_images(validation_images, validation_labels, class_names, num)\n",
    "\n",
    "\n",
    "def show_test_images(num: NUM_TYPE) -> None:\n",
    "    \"\"\"\n",
    "    API function to show images of the test dataset with their colorbar.\n",
    "    \n",
    "    :param num: Integer, range or list of integers specifying the index of the images in the dataset and labels list.\n",
    "    \"\"\"\n",
    "    show_images(test_images, test_labels, class_names, num)"
   ],
   "outputs": [],
   "execution_count": null
  },
  {
   "cell_type": "markdown",
   "metadata": {
    "collapsed": false,
    "deletable": false,
    "editable": false
   },
   "source": [
    "### Visualize train/validation/test images"
   ]
  },
  {
   "cell_type": "code",
   "metadata": {
    "collapsed": false,
    "deletable": false,
    "editable": false
   },
   "source": [
    "show_test_images(range(0, 5))\n",
    "\n",
    "show_train_images(range(0, 5))\n",
    "\n",
    "show_validation_images(range(0, 5))"
   ],
   "outputs": [],
   "execution_count": null
  },
  {
   "cell_type": "markdown",
   "metadata": {
    "collapsed": false,
    "deletable": false,
    "editable": false
   },
   "source": [
    "## Data Preparation"
   ]
  },
  {
   "cell_type": "markdown",
   "metadata": {
    "collapsed": false,
    "deletable": false,
    "editable": false
   },
   "source": [
    "### Scaling of image pixel values\n",
    "\n",
    "The image pixel values have to be scaled (normalized) in the range of 0-1. This prevents the computation of high numeric values in the neural network and therefore reduces the complexity.\n",
    "The Fashion MNIST dataset uses 8-bit images which means the pixels have values between 0 and 255.   "
   ]
  },
  {
   "cell_type": "code",
   "metadata": {
    "collapsed": false,
    "deletable": false,
    "editable": false
   },
   "source": [
    "prepared_train_images = train_images / 255.0\n",
    "prepared_train_labels = train_labels\n",
    "\n",
    "prepared_validation_images = validation_images / 255.0\n",
    "prepared_validation_labels = validation_labels\n",
    "\n",
    "prepared_test_images = test_images / 255.0\n",
    "prepared_test_labels = test_labels"
   ],
   "outputs": [],
   "execution_count": null
  },
  {
   "cell_type": "markdown",
   "metadata": {
    "collapsed": false,
    "deletable": false,
    "editable": false
   },
   "source": [
    "### Helper functions"
   ]
  },
  {
   "cell_type": "code",
   "metadata": {
    "collapsed": false,
    "deletable": false,
    "editable": false
   },
   "source": [
    "def show_prepared_train_images(num: NUM_TYPE) -> None:\n",
    "    \"\"\"\n",
    "    API function to show images of the prepared train dataset with their colorbar.\n",
    "    \n",
    "    :param num: Integer, range or list of integers specifying the index of the images in the dataset and labels list.\n",
    "    \"\"\"\n",
    "    show_images(prepared_train_images, train_labels, class_names, num)\n",
    "\n",
    "\n",
    "def show_prepared_validation_images(num: NUM_TYPE) -> None:\n",
    "    \"\"\"\n",
    "    API function to show images of the prepared validation dataset with their colorbar.\n",
    "    \n",
    "    :param num: Integer, range or list of integers specifying the index of the images in the dataset and labels list.\n",
    "    \"\"\"\n",
    "    show_images(prepared_validation_images, prepared_validation_labels, class_names, num)\n",
    "\n",
    "\n",
    "def show_prepared_test_images(num: NUM_TYPE) -> None:\n",
    "    \"\"\"\n",
    "    API function to show images of the prepared test dataset with their colorbar.\n",
    "    \n",
    "    :param num: Integer, range or list of integers specifying the index of the images in the dataset and labels list.\n",
    "    \"\"\"\n",
    "    show_images(prepared_test_images, test_labels, class_names, num)"
   ],
   "outputs": [],
   "execution_count": null
  },
  {
   "cell_type": "markdown",
   "metadata": {
    "collapsed": false,
    "deletable": false,
    "editable": false
   },
   "source": [
    "### Visualize prepared train/validation/test images"
   ]
  },
  {
   "cell_type": "code",
   "metadata": {
    "collapsed": false,
    "deletable": false,
    "editable": false
   },
   "source": [
    "show_prepared_test_images(range(0, 5))\n",
    "\n",
    "show_prepared_train_images(range(0, 5))\n",
    "\n",
    "show_prepared_validation_images(range(0, 5))"
   ],
   "outputs": [],
   "execution_count": null
  },
  {
   "cell_type": "markdown",
   "metadata": {
    "collapsed": false,
    "deletable": false,
    "editable": false
   },
   "source": [
    "## Model-Building"
   ]
  },
  {
   "cell_type": "markdown",
   "metadata": {
    "collapsed": false,
    "deletable": false,
    "editable": false
   },
   "source": [
    "### Helper functions"
   ]
  },
  {
   "cell_type": "code",
   "metadata": {
    "collapsed": false,
    "deletable": false,
    "editable": false
   },
   "source": [
    "from keras import layers, optimizers, losses, metrics, activations\n",
    "\n",
    "\n",
    "def build_model(num_hidden_layers: int, num_hidden_layers_neurons: Union[List[int], int],\n",
    "                hidden_activation_functions, optimizer, loss_function,\n",
    "                metrics_list) -> keras.models.Model:\n",
    "    \"\"\"\n",
    "    API function for building and compiling the model.\n",
    "    \n",
    "    :param num_hidden_layers: Number of hidden layers.\n",
    "    :param num_hidden_layers_neurons: Integer or list of integers, specifying the number of neurons in the hidden layers. If this is only an integer, all hidden layers will have the same number of neurons.\n",
    "    :param hidden_activation_functions: Activation function as string, from keras.activations, or a list of these. If no list is passed, all hidden layers will have the same activation function.\n",
    "    :param optimizer: Optimizer used for compiling the model.\n",
    "    :param loss_function: Loss function used for compiling the model.\n",
    "    :param metrics_list: Metrics used for compiling the model.\n",
    "    :return: The built and compiled model.\n",
    "    \"\"\"\n",
    "    if isinstance(num_hidden_layers_neurons, list):\n",
    "        assert num_hidden_layers == len(num_hidden_layers_neurons)\n",
    "    else:\n",
    "        num_hidden_layers_neurons = [num_hidden_layers_neurons] * num_hidden_layers\n",
    "\n",
    "    if isinstance(hidden_activation_functions, list):\n",
    "        assert num_hidden_layers == len(hidden_activation_functions)\n",
    "    else:\n",
    "        hidden_activation_functions = [hidden_activation_functions] * num_hidden_layers\n",
    "\n",
    "    if not isinstance(metrics_list, list):\n",
    "        metrics_list = [metrics_list]\n",
    "\n",
    "    ret_model = keras.models.Sequential(\n",
    "        name=f\"model_sequential_{num_hidden_layers}_{'_'.join(str(neurons) for neurons in num_hidden_layers_neurons)}\")\n",
    "    ret_model.add(keras.Input(shape=(28, 28)))\n",
    "\n",
    "    # Use layers.Flatten to flatten the input n-dimensional array into an one-dimensional array\n",
    "    ret_model.add(layers.Flatten())\n",
    "\n",
    "    for index in range(num_hidden_layers):\n",
    "        ret_model.add(layers.Dense(num_hidden_layers_neurons[index],\n",
    "                                   activation=hidden_activation_functions[index]))\n",
    "\n",
    "    ret_model.add(layers.Dense(len(class_names)))\n",
    "\n",
    "    ret_model.summary()\n",
    "\n",
    "    ret_model.compile(optimizer=optimizer,\n",
    "                      loss=loss_function,\n",
    "                      metrics=metrics_list)\n",
    "\n",
    "    return ret_model"
   ],
   "outputs": [],
   "execution_count": null
  },
  {
   "cell_type": "markdown",
   "metadata": {
    "collapsed": false,
    "deletable": false,
    "editable": false
   },
   "source": [
    "### Build model\n",
    "\n",
    "Build model with 2 Hidden Layers, both with 128 neurons. The hidden layers have the activation function ReLU. The model is optimized with an AdamOptimizer, the loss function is SparseCategoricalCrossentropy and the only metric is SparseCategoricalAccuracy."
   ]
  },
  {
   "cell_type": "code",
   "metadata": {
    "collapsed": false,
    "deletable": false,
    "editable": false,
    "scrolled": true
   },
   "source": [
    "num_hidden_layer = 2\n",
    "num_hidden_neurons_per_layer = 128\n",
    "activation_function = activations.relu\n",
    "optimizer = optimizers.Adam()\n",
    "loss_function = losses.SparseCategoricalCrossentropy(from_logits=True)\n",
    "metrics_function = metrics.SparseCategoricalAccuracy()\n",
    "\n",
    "model = build_model(num_hidden_layer, num_hidden_neurons_per_layer, activation_function, optimizer,\n",
    "                    loss_function, metrics_function)"
   ],
   "outputs": [],
   "execution_count": null
  },
  {
   "cell_type": "markdown",
   "metadata": {
    "collapsed": false,
    "deletable": false,
    "editable": false
   },
   "source": [
    "## Model-Training"
   ]
  },
  {
   "cell_type": "markdown",
   "metadata": {
    "collapsed": false,
    "deletable": false,
    "editable": false
   },
   "source": [
    "### Helper functions"
   ]
  },
  {
   "cell_type": "code",
   "metadata": {
    "collapsed": false,
    "deletable": false,
    "editable": false
   },
   "source": [
    "def train(model_train: keras.models.Model, batch_size: int, epochs: int):\n",
    "    \"\"\"\n",
    "    API function for training a model.\n",
    "\n",
    "    :param model_train: Model to train.\n",
    "    :param batch_size: Size of a batch.\n",
    "    :param epochs: Epochs to train.\n",
    "    \"\"\"\n",
    "    return model_train.fit(prepared_train_images, prepared_train_labels, batch_size=batch_size, epochs=epochs,\n",
    "                     validation_data=(prepared_validation_images, prepared_validation_labels))"
   ],
   "outputs": [],
   "execution_count": null
  },
  {
   "cell_type": "markdown",
   "metadata": {
    "collapsed": false,
    "deletable": false,
    "editable": false
   },
   "source": [
    "### Training"
   ]
  },
  {
   "cell_type": "code",
   "metadata": {
    "collapsed": false,
    "deletable": false,
    "editable": false,
    "scrolled": true
   },
   "source": [
    "batch_size = 32\n",
    "epochs = 10\n",
    "\n",
    "model_history = train(model, batch_size, epochs)"
   ],
   "outputs": [],
   "execution_count": null
  },
  {
   "cell_type": "markdown",
   "metadata": {
    "collapsed": false,
    "deletable": false,
    "editable": false
   },
   "source": [
    "## Model-Evaluation"
   ]
  },
  {
   "cell_type": "markdown",
   "metadata": {
    "collapsed": false,
    "deletable": false,
    "editable": false
   },
   "source": [
    "### Helper functions"
   ]
  },
  {
   "cell_type": "code",
   "metadata": {
    "collapsed": false,
    "deletable": false,
    "editable": false
   },
   "source": [
    "def evaluate(model_evaluate: keras.models.Model, model_history, metric: str) -> None:\n",
    "    \"\"\"\n",
    "    API function for evaluating a trained model.\n",
    "\n",
    "    :param model_evaluate: Trained model to evaluate.\n",
    "    :param model_history: Training history.\n",
    "    \"\"\"\n",
    "    loss, accuracy = model_evaluate.evaluate(prepared_test_images, prepared_test_labels)\n",
    "    print(f\"\\nAccuracy on test images: {accuracy}, Loss: {loss}\")\n",
    "\n",
    "    plt.plot(model_history.epoch, model_history.history[metric],\n",
    "             label=f\"Train - {model_evaluate.name}\")\n",
    "    plt.plot(model_history.epoch, model_history.history[\"val_\" + metric],\n",
    "             label=f\"Validation - {model_evaluate.name}\",linestyle=\"--\")\n",
    "    plt.xlabel('Epoch')\n",
    "    plt.ylabel(metric)\n",
    "    plt.legend()"
   ],
   "outputs": [],
   "execution_count": null
  },
  {
   "cell_type": "markdown",
   "metadata": {
    "collapsed": false,
    "deletable": false,
    "editable": false
   },
   "source": [
    "### Evaluation"
   ]
  },
  {
   "cell_type": "code",
   "metadata": {
    "collapsed": false,
    "deletable": false,
    "editable": true
   },
   "source": [
    "plt.figure(1, figsize=(10, 5))\n",
    "evaluate(model, model_history, \"loss\")\n",
    "plt.show()\n",
    "\n",
    "plt.figure(1, figsize=(10, 5))\n",
    "evaluate(model, model_history, \"sparse_categorical_accuracy\")\n",
    "plt.show()"
   ],
   "outputs": [],
   "execution_count": null
  },
  {
   "cell_type": "markdown",
   "metadata": {
    "collapsed": false,
    "deletable": false,
    "editable": false
   },
   "source": [
    "## Predictions"
   ]
  },
  {
   "cell_type": "markdown",
   "metadata": {
    "collapsed": false,
    "deletable": false,
    "editable": false
   },
   "source": [
    "### Predictable data preparation\n",
    "\n",
    "For the ease of using the data of the dataset all original images and labels of the dataset are concatenated to offer images which can be predicated and their corresponding labels.\n",
    "The prediction can be executed on custom 8-Bit 28x28 images, too (but there is no directly support in this notebook - it can be build with tkinter's filechooser for example).  "
   ]
  },
  {
   "cell_type": "code",
   "metadata": {
    "collapsed": false,
    "deletable": false,
    "editable": false
   },
   "source": [
    "tmp_train_images = train_images.copy()\n",
    "tmp_train_labels = train_labels.copy()\n",
    "\n",
    "tmp_test_images = test_images.copy()\n",
    "tmp_test_labels = test_labels.copy()\n",
    "\n",
    "predictable_images = np.concatenate((tmp_train_images, tmp_test_images)) / 255.0\n",
    "predictable_labels = np.concatenate((tmp_train_labels, tmp_test_labels))"
   ],
   "outputs": [],
   "execution_count": null
  },
  {
   "cell_type": "markdown",
   "metadata": {
    "collapsed": false,
    "deletable": false,
    "editable": false
   },
   "source": [
    "### Helper functions"
   ]
  },
  {
   "cell_type": "code",
   "metadata": {
    "collapsed": false,
    "deletable": false,
    "editable": false
   },
   "source": [
    "from typing import Tuple\n",
    "\n",
    "def show_images_prediction(predictions_result_data: List[Tuple[int, list]], text: str) -> None:\n",
    "    \"\"\"\n",
    "    Internal function for showing multiple images in one plot, including predicted class-dependent probability-bar.\n",
    "    This should only be called inside the API functions, never directly.\n",
    "    \n",
    "    :param predictions_result_data: Results of the prediction as a list of tuples with format: (image_num, prediction)\n",
    "    :param text: Text that should be displayed in the result plots.\n",
    "    \"\"\"    \n",
    "    len_sqrt = int(np.ceil(np.sqrt(len(predictions_result_data * 2))))\n",
    "\n",
    "    plt.figure(figsize=(len_sqrt * 3, len_sqrt * 3))\n",
    "    plt.suptitle(text, fontsize=14)\n",
    "    for index, prediction in enumerate(predictions_result_data):\n",
    "        predicted_image_num = prediction[0]\n",
    "        prediction_result = prediction[1]\n",
    "\n",
    "        predicted_class_num = np.argmax(prediction_result)\n",
    "        correct_class_num = predictable_labels[predicted_image_num]\n",
    "\n",
    "        prediction_probability = np.max(prediction_result)\n",
    "\n",
    "        predicted_class = class_names[predicted_class_num]\n",
    "        correct_class = class_names[correct_class_num]\n",
    "\n",
    "        # Image\n",
    "        plt.subplot(len_sqrt, len_sqrt, 2 * index + 1)\n",
    "\n",
    "        if np.max(predictable_images[predicted_image_num]) <= 1:\n",
    "            plt.imshow(predictable_images[predicted_image_num], cmap=colormaps[\"gray\"])\n",
    "        else:\n",
    "            plt.imshow(predictable_images[predicted_image_num])\n",
    "\n",
    "        plt.xticks([])\n",
    "        plt.yticks([])\n",
    "        plt.grid(False)\n",
    "\n",
    "        if predicted_class == correct_class:\n",
    "            color = \"green\"\n",
    "        else:\n",
    "            color = \"red\"\n",
    "\n",
    "        plt.xlabel(f\"{predicted_class} {int(prediction_probability * 100)}% ({correct_class})\",\n",
    "                   color=color)\n",
    "\n",
    "        # Probability Bar Chart\n",
    "        plt.subplot(len_sqrt, len_sqrt, 2 * index + 1 + 1)\n",
    "\n",
    "        plt.xticks(range(len(class_names)))\n",
    "        plt.grid(False)\n",
    "        plt.ylim([0, 1])\n",
    "\n",
    "        bar_plt = plt.bar(range(len(class_names)), prediction_result, color=\"#777777\")\n",
    "\n",
    "        bar_plt[predicted_class_num].set_color('red')\n",
    "        bar_plt[correct_class_num].set_color('blue')\n",
    "\n",
    "    plt.show()\n",
    "\n",
    "\n",
    "def predict_images(prediction_model: keras.models.Model, num: NUM_TYPE) -> List[Tuple[int, list]]:\n",
    "    \"\"\"\n",
    "    API function for predicting images of the predictable_images dataset and the corresponding labels.\n",
    "\n",
    "    :param prediction_model: Trained model.\n",
    "    :param num: Integer, range or list of integers specifying the index of the images in the dataset and labels list.\n",
    "    :returns: Prediction results for further processing.\n",
    "    \"\"\"\n",
    "    prediction_data = predictable_images[num]\n",
    "    if isinstance(num, int):\n",
    "        prediction_data.shape = (1, prediction_data.shape[0], prediction_data.shape[1])\n",
    "\n",
    "    predictions = prediction_model.predict(prediction_data)\n",
    "\n",
    "    prediction_result_data = [(num[index], prediction) for index, prediction in\n",
    "                              enumerate(predictions)]\n",
    "    \n",
    "    return prediction_result_data\n",
    "\n",
    "def build_prediction_model(input_model: keras.models.Model) -> keras.models.Model:\n",
    "    \"\"\"\n",
    "    API function for building a prediction model. Precondition is, that the last layer of the input model is a\n",
    "    dense layer with linear activation.\n",
    "\n",
    "    :param input_model: Trained model.\n",
    "    :returns: Prediction model.\n",
    "    \"\"\"\n",
    "    # The prediction model uses the architecture of the trained model, but adds a Softmax layer to convert the output to\n",
    "    # class-dependent probabilities.\n",
    "    return keras.models.Sequential([input_model, layers.Softmax()], name=f\"prediction_{input_model.name}\")\n"
   ],
   "outputs": [],
   "execution_count": null
  },
  {
   "cell_type": "markdown",
   "metadata": {
    "collapsed": false,
    "deletable": false,
    "editable": false
   },
   "source": [
    "### Build prediction model"
   ]
  },
  {
   "cell_type": "code",
   "metadata": {
    "collapsed": false,
    "deletable": false,
    "editable": false
   },
   "source": [
    "prediction_model = build_prediction_model(model)"
   ],
   "outputs": [],
   "execution_count": null
  },
  {
   "cell_type": "markdown",
   "metadata": {
    "collapsed": false,
    "deletable": false,
    "editable": false
   },
   "source": [
    "### Execute prediction"
   ]
  },
  {
   "cell_type": "code",
   "metadata": {
    "collapsed": false,
    "deletable": false,
    "editable": false
   },
   "source": [
    "prediction_result = predict_images(prediction_model, range(0, 5))\n",
    "show_images_prediction(prediction_result, prediction_model.name)"
   ],
   "outputs": [],
   "execution_count": null
  },
  {
   "cell_type": "markdown",
   "metadata": {
    "collapsed": false,
    "deletable": false,
    "editable": false
   },
   "source": [
    "## Further experiments"
   ]
  },
  {
   "cell_type": "markdown",
   "metadata": {
    "collapsed": false,
    "deletable": false,
    "editable": false
   },
   "source": [
    "### Hidden layer variations"
   ]
  },
  {
   "cell_type": "markdown",
   "metadata": {
    "collapsed": false,
    "deletable": false,
    "editable": false
   },
   "source": [
    "#### Training"
   ]
  },
  {
   "cell_type": "code",
   "metadata": {
    "collapsed": false,
    "deletable": false,
    "editable": false,
    "scrolled": true
   },
   "source": [
    "# Hyperparameters - Build\n",
    "num_hidden_neurons_per_layer = 128\n",
    "activation_function = activations.relu\n",
    "optimizer = optimizers.Adam\n",
    "loss_function = losses.SparseCategoricalCrossentropy(from_logits=True)\n",
    "metrics_function = metrics.SparseCategoricalAccuracy()\n",
    "\n",
    "# Hyperparameters - Training\n",
    "batch_size = 32\n",
    "epochs = 10\n",
    "\n",
    "models = []\n",
    "for num_hidden_layer in range(1, 6):    \n",
    "    model = build_model(num_hidden_layer, num_hidden_neurons_per_layer, activation_function, optimizer(),\n",
    "                        loss_function, metrics_function)\n",
    "    model_history = train(model, batch_size, epochs)\n",
    "    models.append({\"num_hidden_layer\": num_hidden_layer, \"model\": model, \"history\": model_history})"
   ],
   "outputs": [],
   "execution_count": null
  },
  {
   "cell_type": "markdown",
   "metadata": {
    "collapsed": false,
    "deletable": false,
    "editable": false
   },
   "source": [
    "#### Evaluation"
   ]
  },
  {
   "cell_type": "code",
   "metadata": {
    "collapsed": false,
    "deletable": false,
    "editable": false
   },
   "source": [
    "plt.figure(len(models), figsize=(15, 10))\n",
    "for model in models:\n",
    "    evaluate(model[\"model\"], model[\"history\"], \"loss\")\n",
    "plt.show()\n",
    "\n",
    "plt.figure(len(models), figsize=(15,10))\n",
    "for model in models:\n",
    "    evaluate(model[\"model\"], model[\"history\"], \"sparse_categorical_accuracy\")\n",
    "plt.show()"
   ],
   "outputs": [],
   "execution_count": null
  },
  {
   "cell_type": "markdown",
   "metadata": {
    "collapsed": false,
    "deletable": false,
    "editable": false
   },
   "source": [
    "#### Prediction"
   ]
  },
  {
   "cell_type": "code",
   "metadata": {
    "collapsed": false,
    "deletable": false,
    "editable": false
   },
   "source": [
    "for model in models:\n",
    "    prediction_model = build_prediction_model(model[\"model\"])\n",
    "    \n",
    "    prediction_result = predict_images(prediction_model, range(0, 5))\n",
    "    show_images_prediction(prediction_result, f\"Hidden Layers: {model['num_hidden_layer']}\")"
   ],
   "outputs": [],
   "execution_count": null
  },
  {
   "cell_type": "markdown",
   "metadata": {
    "collapsed": false,
    "deletable": false,
    "editable": false
   },
   "source": [
    "### Hidden Neurons variations on 2 hidden layer model"
   ]
  },
  {
   "cell_type": "markdown",
   "metadata": {
    "collapsed": false,
    "deletable": false,
    "editable": false
   },
   "source": [
    "#### Training"
   ]
  },
  {
   "cell_type": "code",
   "metadata": {
    "collapsed": false,
    "deletable": false,
    "editable": false,
    "scrolled": true
   },
   "source": [
    "from itertools import product\n",
    "\n",
    "# Hyperparameters - Build\n",
    "num_hidden_layers = 2\n",
    "activation_function = activations.relu\n",
    "optimizer = optimizers.Adam\n",
    "loss_function = losses.SparseCategoricalCrossentropy(from_logits=True)\n",
    "metrics_function = metrics.SparseCategoricalAccuracy()\n",
    "\n",
    "# Hyperparameters - Training\n",
    "batch_size = 32\n",
    "epochs = 10\n",
    "\n",
    "models = []\n",
    "for num_hidden_layer_neurons in ([1 << exponent[0], 1 << exponent[1]] for exponent in product(range(2, 10), range(2, 10))):\n",
    "    model = build_model(num_hidden_layers, num_hidden_layer_neurons, activation_function, optimizer(),\n",
    "                        loss_function, metrics_function)\n",
    "    model_history = train(model, batch_size, epochs)\n",
    "    models.append({\"num_hidden_layer_neurons\": num_hidden_layer_neurons, \"model\": model, \"history\": model_history})"
   ],
   "outputs": [],
   "execution_count": null
  },
  {
   "cell_type": "markdown",
   "metadata": {
    "collapsed": false,
    "deletable": false,
    "editable": false
   },
   "source": [
    "#### Evaluation"
   ]
  },
  {
   "cell_type": "code",
   "metadata": {
    "collapsed": false,
    "deletable": false,
    "editable": false,
    "scrolled": true
   },
   "source": [
    "plt.figure(len(models), figsize=(15, 10))\n",
    "for model in models:\n",
    "    evaluate(model[\"model\"], model[\"history\"], \"loss\")\n",
    "plt.show()\n",
    "\n",
    "plt.figure(len(models), figsize=(15,10))\n",
    "for model in models:\n",
    "    evaluate(model[\"model\"], model[\"history\"], \"sparse_categorical_accuracy\")\n",
    "plt.show()"
   ],
   "outputs": [],
   "execution_count": null
  },
  {
   "cell_type": "markdown",
   "metadata": {
    "collapsed": false,
    "deletable": false,
    "editable": false
   },
   "source": [
    "#### Prediction"
   ]
  },
  {
   "cell_type": "code",
   "metadata": {
    "collapsed": false,
    "deletable": false,
    "editable": false
   },
   "source": [
    "for model in models:\n",
    "    prediction_model = build_prediction_model(model[\"model\"])\n",
    "    \n",
    "    prediction_result = predict_images(prediction_model, range(0, 5))\n",
    "    show_images_prediction(prediction_result, f\"Hidden Neurons: {model['num_hidden_layer_neurons']}\")"
   ],
   "outputs": [],
   "execution_count": null
  },
  {
   "cell_type": "markdown",
   "metadata": {
    "collapsed": false,
    "deletable": false,
    "editable": false
   },
   "source": [
    "### Activation function variation"
   ]
  },
  {
   "cell_type": "markdown",
   "metadata": {
    "collapsed": false,
    "deletable": false,
    "editable": false
   },
   "source": [
    "#### Training"
   ]
  },
  {
   "cell_type": "code",
   "metadata": {
    "collapsed": false,
    "deletable": false,
    "editable": false,
    "scrolled": true
   },
   "source": [
    "models = []\n",
    "\n",
    "# Hyperparameters - Build\n",
    "num_hidden_layers = 2\n",
    "num_hidden_neurons_per_layer = 128\n",
    "optimizer = optimizers.Adam\n",
    "loss_function = losses.SparseCategoricalCrossentropy(from_logits=True)\n",
    "metrics_function = metrics.SparseCategoricalAccuracy()\n",
    "\n",
    "# Hyperparameters - Training\n",
    "batch_size = 32\n",
    "epochs = 10\n",
    "\n",
    "for activation_function in [activations.relu, activations.sigmoid, activations.tanh]:\n",
    "    model = build_model(num_hidden_layers, num_hidden_neurons_per_layer, activation_function, optimizer(),\n",
    "                        loss_function, metrics_function)\n",
    "    model_history = train(model, batch_size, epochs)\n",
    "    models.append({\"activation_function\": activation_function, \"model\": model, \"history\": model_history})"
   ],
   "outputs": [],
   "execution_count": null
  },
  {
   "cell_type": "markdown",
   "metadata": {
    "collapsed": false,
    "deletable": false,
    "editable": false
   },
   "source": [
    "#### Evaluation"
   ]
  },
  {
   "cell_type": "code",
   "metadata": {
    "collapsed": false,
    "deletable": false,
    "editable": false
   },
   "source": [
    "plt.figure(len(models), figsize=(15, 10))\n",
    "for model in models:\n",
    "    evaluate(model[\"model\"], model[\"history\"], \"loss\")\n",
    "plt.show()\n",
    "\n",
    "plt.figure(len(models), figsize=(15,10))\n",
    "for model in models:\n",
    "    evaluate(model[\"model\"], model[\"history\"], \"sparse_categorical_accuracy\")\n",
    "plt.show()"
   ],
   "outputs": [],
   "execution_count": null
  },
  {
   "cell_type": "markdown",
   "metadata": {
    "collapsed": false,
    "deletable": false,
    "editable": false
   },
   "source": [
    "#### Prediction"
   ]
  },
  {
   "cell_type": "code",
   "metadata": {
    "collapsed": false,
    "deletable": false,
    "editable": false
   },
   "source": [
    "for model in models:\n",
    "    prediction_model = build_prediction_model(model[\"model\"])\n",
    "    \n",
    "    prediction_result = predict_images(prediction_model, range(0, 5))\n",
    "    show_images_prediction(prediction_result, f\"Activation function: {model['activation_function']}\")"
   ],
   "outputs": [],
   "execution_count": null
  },
  {
   "cell_type": "markdown",
   "metadata": {
    "collapsed": false
   },
   "source": [
    "### Different Architectures"
   ]
  },
  {
   "cell_type": "code",
   "metadata": {
    "collapsed": false,
    "deletable": false,
    "editable": false,
    "scrolled": true
   },
   "source": [
    "# Hyperparameters - Training\n",
    "batch_size = 32\n",
    "epochs = 10\n",
    "\n",
    "model_1 = build_model(8, 16, activations.sigmoid, optimizers.Adam(), losses.MeanSquaredError(), metrics.SparseCategoricalAccuracy())\n",
    "model_1_history = train(model, batch_size, epochs)\n",
    "\n",
    "model_2 = build_model(1, 256, activations.tanh, optimizers.Adam(), losses.SparseCategoricalCrossentropy(from_logits=True), metrics.SparseCategoricalAccuracy())\n",
    "model_2_history = train(model, batch_size, epochs)\n",
    "\n",
    "model_3 = build_model(5, [200,150,8,39,1], activations.tanh, optimizers.Adam(learning_rate=0.5), losses.SparseCategoricalCrossentropy(from_logits=True), metrics.SparseCategoricalAccuracy())\n",
    "model_3_history = train(model, batch_size, epochs)\n",
    "\n",
    "model_4 = build_model(8, 50000, activations.relu, optimizers.Adam(learning_rate=0.00005), losses.SparseCategoricalCrossentropy(from_logits=True), metrics.SparseCategoricalAccuracy())\n",
    "model_4_history = train(model, batch_size, epochs)"
   ],
   "outputs": [],
   "execution_count": null
  },
  {
   "cell_type": "code",
   "metadata": {
    "collapsed": false,
    "deletable": false,
    "editable": true,
    "scrolled": true
   },
   "source": [
    "plt.figure(4, figsize=(10,5))\n",
    "evaluate(model_1, model_1_history, \"sparse_categorical_accuracy\")\n",
    "evaluate(model_2, model_2_history, \"sparse_categorical_accuracy\")\n",
    "evaluate(model_3, model_3_history, \"sparse_categorical_accuracy\")\n",
    "evaluate(model_4, model_4_history, \"sparse_categorical_accuracy\")\n",
    "plt.show()\n",
    "\n",
    "plt.figure(4, figsize=(10, 5))\n",
    "evaluate(model_1, model_1_history, \"loss\")\n",
    "evaluate(model_2, model_2_history, \"loss\")\n",
    "evaluate(model_3, model_3_history, \"loss\")\n",
    "evaluate(model_4, model_4_history, \"loss\")\n",
    "\n",
    "plt.show()\n",
    "\n"
   ],
   "outputs": [],
   "execution_count": null
  },
  {
   "cell_type": "code",
   "metadata": {
    "collapsed": false,
    "deletable": false,
    "editable": false
   },
   "source": [
    "prediction_model_1 = build_prediction_model(model_1)\n",
    "prediction_result_1 = predict_images(prediction_model_1, range(0, 26))\n",
    "show_images_prediction(prediction_result_1, \"Model 1\")\n",
    "\n",
    "prediction_model_2 = build_prediction_model(model_2)\n",
    "prediction_result_2 = predict_images(prediction_model_2, range(0, 26))\n",
    "show_images_prediction(prediction_result_2, \"Model 2\")\n",
    "\n",
    "prediction_model_3 = build_prediction_model(model_3)\n",
    "prediction_result_3 = predict_images(prediction_model_3, range(0, 26))\n",
    "show_images_prediction(prediction_result_3, \"Model 3\")\n",
    "\n",
    "prediction_model_4 = build_prediction_model(model_4)\n",
    "prediction_result_4 = predict_images(prediction_model_4, range(0, 26))\n",
    "show_images_prediction(prediction_result_4, \"Model 4\")"
   ],
   "outputs": [],
   "execution_count": null
  }
 ],
 "metadata": {
  "kernelspec": {
   "display_name": "Python 3 (ipykernel)",
   "env": {},
   "language": "python",
   "name": "python3",
   "resource_dir": "/usr/local/share/jupyter/kernels/python3-ubuntu"
  },
  "language_info": {
   "codemirror_mode": {
    "name": "ipython",
    "version": 3
   },
   "file_extension": ".py",
   "mimetype": "text/x-python",
   "name": "python",
   "nbconvert_exporter": "python",
   "pygments_lexer": "ipython3",
   "version": "3.10.6"
  }
 },
 "nbformat": 4,
 "nbformat_minor": 4
}
